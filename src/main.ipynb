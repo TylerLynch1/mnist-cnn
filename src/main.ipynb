{
 "cells": [
  {
   "cell_type": "markdown",
   "metadata": {},
   "source": [
    "# MNIST CNN\n",
    "**Author**: Tyler Lynch<br>\n",
    "**Last modified**: 25 Dec, 2024<br>\n",
    "**License**: Licensed under MIT License<br>"
   ]
  },
  {
   "cell_type": "code",
   "execution_count": null,
   "metadata": {
    "colab": {
     "base_uri": "https://localhost:8080/",
     "height": 470
    },
    "executionInfo": {
     "elapsed": 7665,
     "status": "ok",
     "timestamp": 1710810967829,
     "user": {
      "displayName": "Tyler Lynch",
      "userId": "11821807095949840279"
     },
     "user_tz": 240
    },
    "id": "K_osCuwwhdTn",
    "outputId": "2aba7e05-cebf-4bd1-8ba9-41c5faba6828"
   },
   "outputs": [],
   "source": [
    "# Imports\n",
    "from tensorflow.keras.layers import MaxPool2D, Dropout, Flatten, Conv2D, Dense\n",
    "from tensorflow.keras.utils import to_categorical, plot_model\n",
    "from tensorflow.keras.datasets.mnist import load_data\n",
    "from numpy import asarray, unique, argmax\n",
    "from tensorflow.keras import Sequential\n",
    "from matplotlib import pyplot\n",
    "import pandas as pd\n",
    "\n",
    "# Load dataset\n",
    "(x_train, y_train), (x_test, y_test) = load_data()\n",
    "\n",
    "# Summarize dataset\n",
    "print('Train: x=%s, y=%s' % (x_train.shape, y_train.shape))\n",
    "print('Test: x=%s, y=%s' % (x_test.shape, y_test.shape))\n",
    "\n",
    "# Plot first 25 images\n",
    "for i in range(25):\n",
    "  # Define subplot\n",
    "  pyplot.subplot(5, 5, i+1)\n",
    "  # Plot pixel data\n",
    "  pyplot.imshow(x_train[i], cmap=pyplot.get_cmap('grey'))\n",
    "# Display\n",
    "pyplot.show()"
   ]
  },
  {
   "cell_type": "code",
   "execution_count": 2,
   "metadata": {
    "colab": {
     "base_uri": "https://localhost:8080/"
    },
    "executionInfo": {
     "elapsed": 678,
     "status": "ok",
     "timestamp": 1710810968503,
     "user": {
      "displayName": "Tyler Lynch",
      "userId": "11821807095949840279"
     },
     "user_tz": 240
    },
    "id": "woHuSAodqlhb",
    "outputId": "9e10ce56-f33c-4108-a500-83bf624cf90e"
   },
   "outputs": [],
   "source": [
    "# Reshape data to have a single channel\n",
    "x_train = x_train.reshape((x_train.shape[0], x_train.shape[1], x_train.shape[2], 1))\n",
    "x_test = x_test.reshape((x_test.shape[0], x_test.shape[1], x_test.shape[2], 1))\n",
    "\n",
    "# Determine the shape of the input images\n",
    "in_shape = x_train.shape[1:]\n",
    "\n",
    "# Determine the number of classes\n",
    "n_classes = len(unique(y_train))\n",
    "\n",
    "# Normalize pixel values\n",
    "x_train = x_train.astype('float32') / 255.0\n",
    "x_test = x_test.astype('float32') / 255.0"
   ]
  },
  {
   "cell_type": "code",
   "execution_count": 3,
   "metadata": {
    "executionInfo": {
     "elapsed": 526,
     "status": "ok",
     "timestamp": 1710810969027,
     "user": {
      "displayName": "Tyler Lynch",
      "userId": "11821807095949840279"
     },
     "user_tz": 240
    },
    "id": "hpNrKiLEsYxl"
   },
   "outputs": [],
   "source": [
    "# Define model\n",
    "def create_model(in_shape, n_classes):\n",
    "    '''\n",
    "    Create a CNN model\n",
    "    :param in_shape: shape of input images\n",
    "    :param n_classes: number of classes\n",
    "    :return: CNN model\n",
    "    '''\n",
    "    model = Sequential()\n",
    "    model.add(Conv2D(32, (3, 3), activation='relu', kernel_initializer='he_uniform', input_shape=in_shape))\n",
    "    model.add(MaxPool2D((2, 2)))\n",
    "    model.add(Flatten())\n",
    "    model.add(Dense(100, activation='relu', kernel_initializer='he_uniform'))\n",
    "    model.add(Dropout(0.5))\n",
    "    model.add(Dense(n_classes, activation='softmax'))\n",
    "    \n",
    "    return model"
   ]
  },
  {
   "cell_type": "code",
   "execution_count": null,
   "metadata": {},
   "outputs": [],
   "source": [
    "# Function to format the results\n",
    "def format_results(results_df):\n",
    "    '''\n",
    "    Format the results DataFrame\n",
    "    :param results_df: DataFrame containing results\n",
    "    :return: formatted DataFrame\n",
    "    '''\n",
    "    results_df['Test Loss'] = results_df['Test Loss'].round(4)\n",
    "    results_df['Test Accuracy'] = (results_df['Test Accuracy'] * 100).round(4)  # Convert to percentage\n",
    "    results_df['Test Accuracy'] = results_df['Test Accuracy'].astype(str) + '%'  # Add '%' symbol\n",
    "    return results_df\n",
    "\n",
    "# Define optimizer and loss function grids\n",
    "opt = ['adam', 'sgd', 'rmsprop']\n",
    "loss = ['sparse_categorical_crossentropy', 'categorical_crossentropy']\n",
    "\n",
    "# Placeholder for results\n",
    "results = []\n",
    "\n",
    "# Variables to track the best model\n",
    "best_accuracy = 0\n",
    "best_model = None\n",
    "best_optimizer = None\n",
    "best_loss_function = None\n",
    "\n",
    "# Loop through each combination of optimizer and loss function\n",
    "for optimizer in opt:\n",
    "    for loss_function in loss:\n",
    "        # Initialize the model (ensure it's not reused from previous iterations)\n",
    "        model = create_model(in_shape=(28, 28, 1), n_classes=10)  # Adjust input shape and class count\n",
    "\n",
    "        # One-hot encode labels if using categorical_crossentropy\n",
    "        if loss_function == 'categorical_crossentropy':\n",
    "            y_train_encoded = to_categorical(y_train)\n",
    "            y_test_encoded = to_categorical(y_test)\n",
    "        else:\n",
    "            y_train_encoded = y_train\n",
    "            y_test_encoded = y_test\n",
    "\n",
    "        # Compile the model\n",
    "        model.compile(optimizer=optimizer, loss=loss_function, metrics=['accuracy'])\n",
    "\n",
    "        # Train the model\n",
    "        history = model.fit(x_train, y_train_encoded, epochs=10, batch_size=32, verbose=0)\n",
    "\n",
    "        # Evaluate the model\n",
    "        test_loss, test_accuracy = model.evaluate(x_test, y_test_encoded, verbose=0)\n",
    "\n",
    "        # Store results\n",
    "        results.append({\n",
    "            'Optimizer': optimizer,\n",
    "            'Loss Function': loss_function,\n",
    "            'Test Loss': test_loss,\n",
    "            'Test Accuracy': test_accuracy\n",
    "        })\n",
    "\n",
    "        # Update the best model based on test accuracy\n",
    "        if test_accuracy > best_accuracy:\n",
    "            best_accuracy = test_accuracy\n",
    "            best_model = model  # Save the best model instance\n",
    "            best_optimizer = optimizer\n",
    "            best_loss_function = loss_function\n",
    "            best_history = history\n",
    "\n",
    "# Convert results into a DataFrame\n",
    "results_df = pd.DataFrame(results)\n",
    "\n",
    "# Format the results\n",
    "formatted_results = format_results(results_df)\n",
    "\n",
    "# Print the results\n",
    "print(formatted_results)"
   ]
  },
  {
   "cell_type": "code",
   "execution_count": null,
   "metadata": {
    "colab": {
     "base_uri": "https://localhost:8080/",
     "height": 871
    },
    "executionInfo": {
     "elapsed": 580,
     "status": "ok",
     "timestamp": 1710811429090,
     "user": {
      "displayName": "Tyler Lynch",
      "userId": "11821807095949840279"
     },
     "user_tz": 240
    },
    "id": "4aLHEk5tyKzv",
    "outputId": "dce6d018-b064-404e-df25-99dd341a54fc"
   },
   "outputs": [],
   "source": [
    "if best_model:\n",
    "    print(\"\\nBest Model Summary:\")\n",
    "    best_model.summary()\n",
    "\n",
    "    # Print the best optimizer and loss function\n",
    "    print(f\"\\nBest Optimizer: {best_optimizer}\")\n",
    "    print(f\"Best Loss Function: {best_loss_function}\")\n",
    "\n",
    "    # Plot learning curves (display only)\n",
    "    pyplot.title('Learning Curves')\n",
    "    pyplot.xlabel('Epoch')\n",
    "    pyplot.ylabel('Cross Entropy')\n",
    "    pyplot.plot(best_history.history['loss'], label='train')\n",
    "    if 'val_loss' in best_history.history:\n",
    "        pyplot.plot(best_history.history['val_loss'], label='val')\n",
    "    pyplot.legend()\n",
    "    pyplot.show()"
   ]
  },
  {
   "cell_type": "code",
   "execution_count": null,
   "metadata": {},
   "outputs": [],
   "source": [
    "# Make a prediction. Change the index to test a different image.\n",
    "image = x_train[0]\n",
    "yhat = model.predict(asarray([image]))\n",
    "print('Predicted: class=%d' % argmax(yhat))"
   ]
  }
 ],
 "metadata": {
  "colab": {
   "authorship_tag": "ABX9TyPmQJKcW3mj0ShtUNvRradT",
   "provenance": []
  },
  "kernelspec": {
   "display_name": "mnist",
   "language": "python",
   "name": "python3"
  },
  "language_info": {
   "codemirror_mode": {
    "name": "ipython",
    "version": 3
   },
   "file_extension": ".py",
   "mimetype": "text/x-python",
   "name": "python",
   "nbconvert_exporter": "python",
   "pygments_lexer": "ipython3",
   "version": "3.10.13"
  }
 },
 "nbformat": 4,
 "nbformat_minor": 0
}
